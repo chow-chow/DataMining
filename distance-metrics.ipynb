{
 "cells": [
  {
   "attachments": {},
   "cell_type": "markdown",
   "metadata": {},
   "source": [
    "# **Distancia de Levenshtein**\n",
    "\n",
    "La distancia de Levenshtein es una medida de la diferencia entre dos cadenas de texto. Se define como el número mínimo de operaciones de inserción, eliminación o sustitución de caracteres necesarias para transformar una cadena en la otra.\n",
    "\n",
    "Definición matemática:\n",
    "\\begin{equation*}\n",
    "\\operatorname{lev}(a,b) =\n",
    "\\begin{cases}\n",
    "\\lvert b \\rvert & \\text{si } \\lvert a \\rvert = 0 \\\\\n",
    "\\lvert a \\rvert & \\text{si } \\lvert b \\rvert = 0 \\\\\n",
    "\\operatorname{lev}(\\operatorname{tail}(a), \\operatorname{tail}(b)) & \\text{si } a_1 = b_1 \\\\\n",
    "1 + \\min \\{\n",
    "    & \\operatorname{lev}(\\operatorname{tail}(a), b), \\\\\n",
    "    & \\operatorname{lev}(a, \\operatorname{tail}(b)), \\\\\n",
    "    & \\operatorname{lev}(\\operatorname{tail}(a), \\operatorname{tail}(b))\n",
    "  \\} & \\text{en otro caso}\n",
    "\\end{cases}\n",
    "\\end{equation*}\n",
    "\n",
    "A continuación se muestra la implementación en Python:"
   ]
  },
  {
   "cell_type": "code",
   "execution_count": 1,
   "metadata": {},
   "outputs": [],
   "source": [
    "def lev_recursivo(s, t):\n",
    "    if len(s) == 0:\n",
    "        return len(t)\n",
    "    elif len(t) == 0:\n",
    "        return len(s)\n",
    "    elif s[0] == t[0]:\n",
    "        return lev_recursivo(s[1:], t[1:])\n",
    "    else:\n",
    "        sustitucion = lev_recursivo(s[1:], t[1:])\n",
    "        insercion = lev_recursivo(s, t[1:])\n",
    "        eliminacion = lev_recursivo(s[1:], t)\n",
    "        return 1 + min(sustitucion, insercion, eliminacion)"
   ]
  },
  {
   "cell_type": "code",
   "execution_count": 2,
   "metadata": {},
   "outputs": [
    {
     "name": "stdout",
     "output_type": "stream",
     "text": [
      "Distancia de Levenshtein: 3\n"
     ]
    }
   ],
   "source": [
    "str1 = 'kitten'\n",
    "str2 = 'sitting'\n",
    "\n",
    "print('Distancia de Levenshtein:', lev_recursivo(str1, str2))"
   ]
  },
  {
   "attachments": {},
   "cell_type": "markdown",
   "metadata": {},
   "source": [
    "## *Versión Iterativa (Programación dinámica)*"
   ]
  },
  {
   "cell_type": "code",
   "execution_count": 3,
   "metadata": {},
   "outputs": [],
   "source": [
    "def lev_dinamico(str1, str2):\n",
    "    d=dict()\n",
    "    for i in range(len(str1)+1):\n",
    "        d[i]=dict()\n",
    "        d[i][0]=i\n",
    "    for i in range(len(str2)+1):\n",
    "        d[0][i] = i\n",
    "    for i in range(1, len(str1)+1):\n",
    "        for j in range(1, len(str2)+1):\n",
    "            d[i][j] = min(d[i][j-1]+1, d[i-1][j]+1, d[i-1][j-1]+(not str1[i-1] == str2[j-1]))\n",
    "    return d[len(str1)][len(str2)]"
   ]
  },
  {
   "cell_type": "code",
   "execution_count": 4,
   "metadata": {},
   "outputs": [
    {
     "name": "stdout",
     "output_type": "stream",
     "text": [
      "Distancia de Levenshtein: 5\n"
     ]
    }
   ],
   "source": [
    "s1 = 'cebra'\n",
    "s2 = 'caballo'\n",
    "\n",
    "print('Distancia de Levenshtein:', lev_dinamico(s1,s2))"
   ]
  },
  {
   "cell_type": "code",
   "execution_count": 5,
   "metadata": {},
   "outputs": [
    {
     "name": "stdout",
     "output_type": "stream",
     "text": [
      "Distancia de Levenshtein (Dinámico): 5\n",
      "Distancia de Levenshtein (Recursivo): 5\n"
     ]
    }
   ],
   "source": [
    "str1 = 'cebra'\n",
    "str2 = 'caballo'\n",
    "\n",
    "print('Distancia de Levenshtein (Dinámico):', lev_dinamico(str1,str2))\n",
    "print('Distancia de Levenshtein (Recursivo):', lev_recursivo(str1, str2))"
   ]
  },
  {
   "attachments": {},
   "cell_type": "markdown",
   "metadata": {},
   "source": [
    "# **N-gramas**\n",
    "\n",
    "Un n-grama es una secuencia contigua de n elementos de un texto o cadena de caracteres, donde n es un número entero positivo. En el procesamiento del lenguaje natural, los n-gramas se utilizan para analizar la frecuencia de ocurrencia de palabras o caracteres en un texto, lo que puede ser útil en tareas como la clasificación de texto, la detección de spam y la corrección automática de texto."
   ]
  },
  {
   "cell_type": "code",
   "execution_count": 6,
   "metadata": {},
   "outputs": [],
   "source": [
    "from nltk import ngrams\n",
    "\n",
    "def similarity(sentence1, sentence2, n):\n",
    "    # Tokeniza las oraciones en palabras y genera los n-gramas para cada una\n",
    "    grams1 = set(ngrams(sentence1.split(), n))\n",
    "    grams2 = set(ngrams(sentence2.split(), n))\n",
    "    print(str(n) + '-gramas para la cadena 1: ' + str(grams1))\n",
    "    print(str(n) + '-gramas para la cadena 2: ' + str(grams2))\n",
    "\n",
    "    # Calcula el número de n-gramas compartidos entre las dos oraciones\n",
    "    shared_grams = grams1.intersection(grams2)\n",
    "    print('N-gramas compartidos: ' + str(shared_grams))\n",
    "\n",
    "    # Calcula el número total de n-gramas en ambas oraciones\n",
    "    total_grams = len(grams1) + len(grams2) - len(shared_grams)\n",
    "\n",
    "    # Calcula la similitud entre las dos oraciones como el porcentaje de n-gramas compartidos\n",
    "    similarity = float(len(shared_grams)) / float(total_grams) * 100\n",
    "\n",
    "    return similarity"
   ]
  },
  {
   "cell_type": "code",
   "execution_count": 7,
   "metadata": {},
   "outputs": [
    {
     "name": "stdout",
     "output_type": "stream",
     "text": [
      "2-gramas para la cadena 1: {('en', 'la'), ('perro', 'está'), ('está', 'durmiendo'), ('durmiendo', 'en'), ('El', 'perro'), ('la', 'alfombra')}\n",
      "2-gramas para la cadena 2: {('jugando', 'en'), ('perro', 'está'), ('el', 'jardín'), ('El', 'perro'), ('está', 'jugando'), ('en', 'el')}\n",
      "N-gramas compartidos: {('perro', 'está'), ('El', 'perro')}\n",
      "Se obtiene un porcentaje de similitud por N-gramas de: 20.0%\n"
     ]
    }
   ],
   "source": [
    "sentence1 = \"El perro está durmiendo en la alfombra\"\n",
    "sentence2 = \"El perro está jugando en el jardín\"\n",
    "\n",
    "print('Se obtiene un porcentaje de similitud por N-gramas de: ' + str(similarity(sentence1, sentence2, 2)) + '%')"
   ]
  },
  {
   "attachments": {},
   "cell_type": "markdown",
   "metadata": {},
   "source": [
    "# **Jaccard Similarity**\n",
    "\n",
    "La similitud de Jaccard es una medida de similitud entre dos conjuntos. Puede ser utilizada para comparar la similitud entre dos textos, por ejemplo, considerando las palabras que aparecen en ambos textos como conjuntos."
   ]
  },
  {
   "cell_type": "code",
   "execution_count": 8,
   "metadata": {},
   "outputs": [
    {
     "name": "stdout",
     "output_type": "stream",
     "text": [
      "Distancia de Jaccard: 0.2222222222222222\n",
      "Similitud de Jaccard: 0.7777777777777778\n"
     ]
    }
   ],
   "source": [
    "from hermetrics.jaccard import Jaccard\n",
    "\n",
    "cadena1 = 'Esta es una cadena para probar la similitud de Jaccard'\n",
    "cadena2 = 'Esta es otra cadena de caracteres para probar Jaccard'\n",
    "distance = Jaccard().distance(cadena1, cadena2)\n",
    "similitud = Jaccard().similarity(cadena1, cadena2)\n",
    "\n",
    "print('Distancia de Jaccard:', distance)\n",
    "print('Similitud de Jaccard:', similitud)"
   ]
  }
 ],
 "metadata": {
  "kernelspec": {
   "display_name": "Python 3",
   "language": "python",
   "name": "python3"
  },
  "language_info": {
   "codemirror_mode": {
    "name": "ipython",
    "version": 3
   },
   "file_extension": ".py",
   "mimetype": "text/x-python",
   "name": "python",
   "nbconvert_exporter": "python",
   "pygments_lexer": "ipython3",
   "version": "3.11.2"
  },
  "orig_nbformat": 4
 },
 "nbformat": 4,
 "nbformat_minor": 2
}
